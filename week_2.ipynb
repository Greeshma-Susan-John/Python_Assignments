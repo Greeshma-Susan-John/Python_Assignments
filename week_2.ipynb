{
  "nbformat": 4,
  "nbformat_minor": 0,
  "metadata": {
    "colab": {
      "name": "Copy of Copy of Week 2 Part 1 Assignment.ipynb",
      "version": "0.3.2",
      "provenance": [],
      "collapsed_sections": []
    },
    "kernelspec": {
      "name": "python3",
      "display_name": "Python 3"
    }
  },
  "cells": [
    {
      "metadata": {
        "id": "p0m9LbIveuis",
        "colab_type": "text"
      },
      "cell_type": "markdown",
      "source": [
        "# Week 2 Part 1 Assignments"
      ]
    },
    {
      "metadata": {
        "id": "eCOgOSARdtsX",
        "colab_type": "text"
      },
      "cell_type": "markdown",
      "source": [
        "1. Understand number and answer the following question.\n",
        "  1. Assign to 10 and 2 on two variables 'a' and 'b' and perform addition, subtraction, multiplication, division and modulo operation. You should properly print answer during each operation."
      ]
    },
    {
      "metadata": {
        "id": "jrg4iBQ-epaY",
        "colab_type": "code",
        "outputId": "ad169076-fbaf-44da-a533-737424ea6562",
        "colab": {
          "base_uri": "https://localhost:8080/",
          "height": 102
        }
      },
      "cell_type": "code",
      "source": [
        "# 1.1 Type your answer here.\n",
        "a=10\n",
        "b=2\n",
        "add=a+b\n",
        "print('sum=',add)\n",
        "sub=a-b\n",
        "print('difference=',sub)\n",
        "mult=a*b \n",
        "print('product=',mult)\n",
        "div=a/b\n",
        "print('quotient=',div)   \n",
        "mod=a%b\n",
        "print('remainder=',mod)\n",
        "\n"
      ],
      "execution_count": 1,
      "outputs": [
        {
          "output_type": "stream",
          "text": [
            "sum= 12\n",
            "difference= 8\n",
            "product= 20\n",
            "quotient= 5.0\n",
            "remainder= 0\n"
          ],
          "name": "stdout"
        }
      ]
    },
    {
      "metadata": {
        "id": "Pu-nFIeQe08e",
        "colab_type": "text"
      },
      "cell_type": "markdown",
      "source": [
        "2. Write different rules for naming a variable/identifier."
      ]
    },
    {
      "metadata": {
        "id": "EWlJFI2le_Ev",
        "colab_type": "code",
        "colab": {}
      },
      "cell_type": "code",
      "source": [
        "# 2 Type your answer here\n",
        "\"\"\"\n",
        "1. It shouldn't be a akeyword used in python\n",
        "2. Must begin with a letter or '_'\n",
        "3. Case sensitive"
      ],
      "execution_count": 0,
      "outputs": []
    },
    {
      "metadata": {
        "id": "RBzlvoyBfC0a",
        "colab_type": "text"
      },
      "cell_type": "markdown",
      "source": [
        "3.  Understand string and answer the following question.   \n",
        " 1. Assign 2 string on two variable and perform concatenation.\n",
        " 2. Assign a string in a variable and print the reverse of the string.\n",
        " 3. Assign 'lower' to a variable and convert it to upper case.\n",
        " 4. Assign 'school of ai' into a variable and split it into individual words\n",
        " 5. Assign 'school of ai' into a variable and find the starting index  of word 'ai'"
      ]
    },
    {
      "metadata": {
        "id": "NKgITA5IgGf9",
        "colab_type": "code",
        "outputId": "9ecb7037-92c3-4af3-d084-143cf6d1a140",
        "colab": {
          "base_uri": "https://localhost:8080/",
          "height": 34
        }
      },
      "cell_type": "code",
      "source": [
        "s1='Ice '\n",
        "s2='crean'\n",
        "sen=s1+s2\n",
        "print(sen)"
      ],
      "execution_count": 3,
      "outputs": [
        {
          "output_type": "stream",
          "text": [
            "Ice crean\n"
          ],
          "name": "stdout"
        }
      ]
    },
    {
      "metadata": {
        "id": "AiLVTn-jgJLx",
        "colab_type": "code",
        "outputId": "9d979a95-0946-445e-ce61-50fae366911f",
        "colab": {
          "base_uri": "https://localhost:8080/",
          "height": 34
        }
      },
      "cell_type": "code",
      "source": [
        "s3='stars'\n",
        "rev=s3[-1]+s3[-2]+s3[-3]+s3[-4]+s3[-5]\n",
        "print(rev)"
      ],
      "execution_count": 4,
      "outputs": [
        {
          "output_type": "stream",
          "text": [
            "srats\n"
          ],
          "name": "stdout"
        }
      ]
    },
    {
      "metadata": {
        "id": "HgCqxoczgJUo",
        "colab_type": "code",
        "outputId": "312c511f-c5de-42dd-aaaa-76893b1cc6e6",
        "colab": {
          "base_uri": "https://localhost:8080/",
          "height": 34
        }
      },
      "cell_type": "code",
      "source": [
        "s4='lower'\n",
        "s4.upper()"
      ],
      "execution_count": 5,
      "outputs": [
        {
          "output_type": "execute_result",
          "data": {
            "text/plain": [
              "'LOWER'"
            ]
          },
          "metadata": {
            "tags": []
          },
          "execution_count": 5
        }
      ]
    },
    {
      "metadata": {
        "id": "xdbj1jW1gv_s",
        "colab_type": "code",
        "outputId": "054d47ca-d2a9-40f1-e9b2-b19ebc32658d",
        "colab": {
          "base_uri": "https://localhost:8080/",
          "height": 34
        }
      },
      "cell_type": "code",
      "source": [
        "s5='school of ai'\n",
        "s5.split(' ')"
      ],
      "execution_count": 6,
      "outputs": [
        {
          "output_type": "execute_result",
          "data": {
            "text/plain": [
              "['school', 'of', 'ai']"
            ]
          },
          "metadata": {
            "tags": []
          },
          "execution_count": 6
        }
      ]
    },
    {
      "metadata": {
        "id": "etzffkuEhgTP",
        "colab_type": "code",
        "outputId": "a7304013-023e-4739-b670-f751544d5a04",
        "colab": {
          "base_uri": "https://localhost:8080/",
          "height": 34
        }
      },
      "cell_type": "code",
      "source": [
        "s6='school of ai'\n",
        "s6.index('ai')"
      ],
      "execution_count": 7,
      "outputs": [
        {
          "output_type": "execute_result",
          "data": {
            "text/plain": [
              "10"
            ]
          },
          "metadata": {
            "tags": []
          },
          "execution_count": 7
        }
      ]
    },
    {
      "metadata": {
        "colab_type": "text",
        "id": "ruHpADeRxOzD"
      },
      "cell_type": "markdown",
      "source": [
        "4.  Understand list and answer the following question.   \n",
        "  1. Create a list with values 10,20,30,40 and find its length and sum\n",
        "  2. Create a list with values 11,22,55. Pop the last element and store it in a variable called 'x'\n",
        "  3. Create a list with values 10,20,40 and insert 30 in index 2.\n",
        "  4. Create a list with values 'a','b','c' and remove 'b' from list\n",
        "  5. Create a list with values 5,'a','b','c',1,5. select values from index 1 to 3 and store it in a variable called 'alpha_list' using slicing."
      ]
    },
    {
      "metadata": {
        "colab_type": "code",
        "id": "uZp1uPLZxOzU",
        "outputId": "6e81e865-cedc-455c-d9b7-90194e56cc2e",
        "colab": {
          "base_uri": "https://localhost:8080/",
          "height": 51
        }
      },
      "cell_type": "code",
      "source": [
        "l1=[10,20,30,40]\n",
        "print('length=',len(l1),'\\nsum= ',sum(l1))\n"
      ],
      "execution_count": 8,
      "outputs": [
        {
          "output_type": "stream",
          "text": [
            "length= 4 \n",
            "sum=  100\n"
          ],
          "name": "stdout"
        }
      ]
    },
    {
      "metadata": {
        "colab_type": "code",
        "id": "-2OQGCp2xOzl",
        "outputId": "8f325e57-c974-4322-c9ad-beb9ddce80ed",
        "colab": {
          "base_uri": "https://localhost:8080/",
          "height": 34
        }
      },
      "cell_type": "code",
      "source": [
        "l2=[11,22,55]\n",
        "x=l2.pop(-1)\n",
        "print('x=',x)"
      ],
      "execution_count": 9,
      "outputs": [
        {
          "output_type": "stream",
          "text": [
            "x= 55\n"
          ],
          "name": "stdout"
        }
      ]
    },
    {
      "metadata": {
        "colab_type": "code",
        "id": "RwXCwmxdxOzy",
        "outputId": "9499ca40-ba9a-483e-c1af-ee7096c3d40a",
        "colab": {
          "base_uri": "https://localhost:8080/",
          "height": 34
        }
      },
      "cell_type": "code",
      "source": [
        "l3=[10,20,40]\n",
        "l3.insert(2,30)\n",
        "l3"
      ],
      "execution_count": 10,
      "outputs": [
        {
          "output_type": "execute_result",
          "data": {
            "text/plain": [
              "[10, 20, 30, 40]"
            ]
          },
          "metadata": {
            "tags": []
          },
          "execution_count": 10
        }
      ]
    },
    {
      "metadata": {
        "colab_type": "code",
        "id": "p-7wB7S-xOz6",
        "outputId": "f180a4b6-38d2-4fcb-8294-37161e22e2ce",
        "colab": {
          "base_uri": "https://localhost:8080/",
          "height": 34
        }
      },
      "cell_type": "code",
      "source": [
        "l4=['a','b','c']\n",
        "l4.remove('b')\n",
        "l4"
      ],
      "execution_count": 11,
      "outputs": [
        {
          "output_type": "execute_result",
          "data": {
            "text/plain": [
              "['a', 'c']"
            ]
          },
          "metadata": {
            "tags": []
          },
          "execution_count": 11
        }
      ]
    },
    {
      "metadata": {
        "colab_type": "code",
        "id": "1HelPyBhxO0E",
        "outputId": "ad9e451b-a8e6-4518-9fb7-1d52dec9b171",
        "colab": {
          "base_uri": "https://localhost:8080/",
          "height": 34
        }
      },
      "cell_type": "code",
      "source": [
        "l5=[5,'a','b','c',1,5]\n",
        "alpha_list=l5[1:4]\n",
        "alpha_list"
      ],
      "execution_count": 12,
      "outputs": [
        {
          "output_type": "execute_result",
          "data": {
            "text/plain": [
              "['a', 'b', 'c']"
            ]
          },
          "metadata": {
            "tags": []
          },
          "execution_count": 12
        }
      ]
    },
    {
      "metadata": {
        "colab_type": "text",
        "id": "UOLpFCOZzROl"
      },
      "cell_type": "markdown",
      "source": [
        "5.  Understand dictionary and answer the following question.   \n",
        "  1. Create a dict with key '1' and value 'odd', key '2' and value 'even'\n",
        "  2. Create a dict with key '1' and value 'odd', key '2' and value 'even' .Then replace 'even' of key 2 with 'EVEN'"
      ]
    },
    {
      "metadata": {
        "colab_type": "code",
        "id": "mbIBaszTzRO-",
        "outputId": "ceefdaba-b027-4ea1-8957-8ad470556e2b",
        "colab": {
          "base_uri": "https://localhost:8080/",
          "height": 51
        }
      },
      "cell_type": "code",
      "source": [
        "value={1:'odd',2:'even'}\n",
        "print(value[1])\n",
        "print(value[2])"
      ],
      "execution_count": 13,
      "outputs": [
        {
          "output_type": "stream",
          "text": [
            "odd\n",
            "even\n"
          ],
          "name": "stdout"
        }
      ]
    },
    {
      "metadata": {
        "colab_type": "code",
        "id": "uxux8opvzRPP",
        "outputId": "2c0b9f2f-dc0b-4544-a502-1c8e5836137a",
        "colab": {
          "base_uri": "https://localhost:8080/",
          "height": 34
        }
      },
      "cell_type": "code",
      "source": [
        "dict1={1:'odd',2:'even'}\n",
        "dict1[2]='EVEN'\n",
        "print(dict1)"
      ],
      "execution_count": 14,
      "outputs": [
        {
          "output_type": "stream",
          "text": [
            "{1: 'odd', 2: 'EVEN'}\n"
          ],
          "name": "stdout"
        }
      ]
    }
  ]
}